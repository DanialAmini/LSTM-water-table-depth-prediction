{
 "cells": [
  {
   "cell_type": "code",
   "execution_count": 1,
   "metadata": {},
   "outputs": [],
   "source": [
    "import pandas as pd\n",
    "from sklearn.preprocessing import StandardScaler\n",
    "from models import *\n",
    "from sklearn.metrics import r2_score, mean_squared_error\n",
    "import matplotlib.pyplot as plt\n",
    "import numpy as np\n",
    "\n",
    "ss_X_dep = StandardScaler()\n",
    "ss_y_dep = StandardScaler()\n",
    "\n",
    "\n",
    "\n",
    "def rmse(y1, y2):\n",
    "    return np.sqrt(mean_squared_error(y1, y2))\n"
   ]
  },
  {
   "cell_type": "code",
   "execution_count": 2,
   "metadata": {},
   "outputs": [],
   "source": [
    "def LSTM_FC_pred_dep(X, Y, X_test=None, iters=20000, learning_rate=1e-4, dropout_prob=0.5):\n",
    "    print(\"lr:\", learning_rate)\n",
    "    print(\"dropout:\", dropout_prob)\n",
    "    print(\"iterations:\", iters)\n",
    "    num_count = Y.shape[0]\n",
    "    input_shape = X.shape[1]\n",
    "    print('num_count:', num_count)\n",
    "    print('input_size:', input_shape)\n",
    "    model = LSTM_FC_Model(num_input=input_shape, num_hidden=[40], num_output=1)\n",
    "\n",
    "    Loss = []\n",
    "    for iter in range(iters + 1):\n",
    "        loss = model.fit(X, Y, learning_rate, dropout_prob)\n",
    "        Loss.append(loss)\n",
    "        if iter % 1000 == 0:\n",
    "            print(\"iteration: %s, loss: %s\" % (iter, loss))\n",
    "\n",
    "        if iter % 5000 == 0:\n",
    "            model.save_model_params('checkpoints/LSTM_FC_CKPT_{}'.format(str(iter)))\n",
    "\n",
    "    print('starting predicting......')\n",
    "    Y_test = model.predict(X_test)\n",
    "    print('predicting done!')\n",
    "    return Y_test"
   ]
  },
  {
   "cell_type": "code",
   "execution_count": null,
   "metadata": {},
   "outputs": [
    {
     "name": "stdout",
     "output_type": "stream",
     "text": [
      "X_train_dep shape (144, 6)\n",
      "y_train_dep shape (144, 1)\n",
      "X_test_dep shape (24, 6)\n",
      "X_train_dep_std shape (144, 6)\n",
      "y_train_dep_std shape (144, 1)\n",
      "X_test_dep_std shape (168, 6)\n",
      "lr: 5e-05\n",
      "dropout: 0.5\n",
      "iterations: 20000\n",
      "num_count: 144\n",
      "input_size: 6\n",
      "iteration: 0, loss: 193.41330849699904\n",
      "iteration: 1000, loss: 192.97147028511569\n",
      "iteration: 2000, loss: 198.33641366985495\n",
      "iteration: 3000, loss: 201.77612104390957\n",
      "iteration: 4000, loss: 202.14137950489283\n",
      "iteration: 5000, loss: 204.98135106578914\n",
      "iteration: 6000, loss: 198.8643236771483\n",
      "iteration: 7000, loss: 202.7235269540965\n",
      "iteration: 8000, loss: 197.01437964344197\n",
      "iteration: 9000, loss: 203.2671294188254\n",
      "iteration: 10000, loss: 201.20394753429755\n",
      "iteration: 11000, loss: 205.40613601246747\n",
      "iteration: 12000, loss: 200.91678950695456\n"
     ]
    }
   ],
   "source": [
    "data = pd.read_csv('data_yigan.csv')\n",
    "Inputs = data.drop('Year', axis=1).drop('Depth', axis=1).drop('Water_Discharge', axis=1)\n",
    "Outputs = data['Depth']\n",
    "\n",
    "Inputs = Inputs.as_matrix()\n",
    "Outputs = Outputs.as_matrix().reshape(-1, 1)\n",
    "\n",
    "# First 12 years of data\n",
    "X_train_dep = Inputs[0:144]\n",
    "y_train_dep = Outputs[0:144]\n",
    "\n",
    "# Last 2 years of data\n",
    "X_test_dep = data.as_matrix()[144:,1:7]\n",
    "\n",
    "print(\"X_train_dep shape\", X_train_dep.shape)\n",
    "print(\"y_train_dep shape\", y_train_dep.shape)\n",
    "print(\"X_test_dep shape\", X_test_dep.shape)\n",
    "\n",
    "X = np.concatenate([X_train_dep, X_test_dep], axis=0)\n",
    "\n",
    "# Standardization\n",
    "X = ss_X_dep.fit_transform(X)\n",
    "\n",
    "# First 12 years of data\n",
    "X_train_dep_std = X[0:144]\n",
    "y_train_dep_std = ss_y_dep.fit_transform(y_train_dep)\n",
    "\n",
    "# All 14 years of data\n",
    "X_test_dep_std  = X\n",
    "\n",
    "\n",
    "print(\"X_train_dep_std shape\", X_train_dep_std.shape)\n",
    "print(\"y_train_dep_std shape\", y_train_dep_std.shape)\n",
    "print(\"X_test_dep_std shape\", X_test_dep_std.shape)\n",
    "\n",
    "\n",
    "\n",
    "y_pred_dep = LSTM_FC_pred_dep(X_train_dep_std, y_train_dep_std, X_test_dep_std, iters=20000, learning_rate=5e-5)\n",
    "\n",
    "y_pred_dep = ss_y_dep.inverse_transform(y_pred_dep[144:])\n"
   ]
  },
  {
   "cell_type": "code",
   "execution_count": null,
   "metadata": {},
   "outputs": [],
   "source": []
  }
 ],
 "metadata": {
  "kernelspec": {
   "display_name": "Python 3",
   "language": "python",
   "name": "python3"
  },
  "language_info": {
   "codemirror_mode": {
    "name": "ipython",
    "version": 3
   },
   "file_extension": ".py",
   "mimetype": "text/x-python",
   "name": "python",
   "nbconvert_exporter": "python",
   "pygments_lexer": "ipython3",
   "version": "3.5.2"
  }
 },
 "nbformat": 4,
 "nbformat_minor": 2
}
